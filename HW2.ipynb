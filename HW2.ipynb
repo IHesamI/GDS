{
 "cells": [
  {
   "cell_type": "code",
   "execution_count": null,
   "metadata": {},
   "outputs": [],
   "source": [
    "import numpy as np\n",
    "import cv2\n",
    "\n",
    "image_path='./imgs/butterfly.jpeg'\n",
    "# Load the image\n",
    "image = cv2.imread(image_path)\n",
    "\n",
    "# Convert the image to RGB format\n",
    "image_rgb = cv2.cvtColor(image, cv2.COLOR_BGR2RGB)\n",
    "\n",
    "# Get the grid locations\n",
    "height, width, _ = image_rgb.shape\n",
    "grid_x, grid_y = np.mgrid[0:width, 0:height]\n",
    "grid_locations = np.column_stack((grid_x.ravel(), grid_y.ravel()))\n",
    "\n",
    "# Combine RGB values and grid locations\n",
    "data = np.concatenate((image_rgb.reshape(-1, 3), grid_locations), axis=1)\n",
    "\n"
   ]
  },
  {
   "cell_type": "code",
   "execution_count": null,
   "metadata": {},
   "outputs": [],
   "source": [
    "from sklearn.cluster import KMeans\n",
    "\n",
    "# Set the number of desired superpixels\n",
    "num_superpixels = 50\n",
    "\n",
    "# Run k-means clustering\n",
    "kmeans = KMeans(n_clusters=num_superpixels, random_state=42)\n",
    "\n",
    "labels = kmeans.fit_predict(data)\n"
   ]
  },
  {
   "cell_type": "code",
   "execution_count": null,
   "metadata": {},
   "outputs": [],
   "source": [
    "import matplotlib.pyplot as plt\n",
    "# Reshape the labels array\n",
    "superpixel_image = labels.reshape(height, width)\n",
    "\n",
    "# Display the superpixel image\n",
    "plt.imshow(superpixel_image, cmap='viridis')\n",
    "plt.axis('off')\n",
    "plt.show()\n"
   ]
  }
 ],
 "metadata": {
  "language_info": {
   "name": "python"
  },
  "orig_nbformat": 4
 },
 "nbformat": 4,
 "nbformat_minor": 2
}
